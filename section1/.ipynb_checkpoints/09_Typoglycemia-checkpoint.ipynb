{
 "cells": [
  {
   "cell_type": "code",
   "execution_count": 1,
   "metadata": {
    "pycharm": {
     "is_executing": true
    }
   },
   "outputs": [
    {
     "name": "stdout",
     "output_type": "stream",
     "text": [
      "['I', 'cdlu’not', 'bivleee', 'that', 'I', 'could', 'alltucay', 'uennstdrad', 'what', 'I', 'was', 'rinadeg', ':', 'the', 'pahennomel', 'peowr', 'of', 'the', 'huamn', 'mind', '.']\n"
     ]
    }
   ],
   "source": [
    "import random\n",
    "s=\"I couldn’t believe that I could actually understand what I was reading : the phenomenal power of the human mind .\"\n",
    "l=s.split(\" \")\n",
    "a=map(lambda w: w if len(w)<=4 else (w[0] + \"\".join(random.sample(w[1:len(w)-1],len(w)-2)) + w[len(w)-1])\n",
    "      , l)\n",
    "print(list(a))"
   ]
  }
 ],
 "metadata": {
  "kernelspec": {
   "display_name": "Python 3",
   "language": "python",
   "name": "python3"
  },
  "language_info": {
   "codemirror_mode": {
    "name": "ipython",
    "version": 3
   },
   "file_extension": ".py",
   "mimetype": "text/x-python",
   "name": "python",
   "nbconvert_exporter": "python",
   "pygments_lexer": "ipython3",
   "version": "3.7.7"
  },
  "pycharm": {
   "stem_cell": {
    "cell_type": "raw",
    "metadata": {
     "collapsed": false
    },
    "source": []
   }
  }
 },
 "nbformat": 4,
 "nbformat_minor": 1
}
