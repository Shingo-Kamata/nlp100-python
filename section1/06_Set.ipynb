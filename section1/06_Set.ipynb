{
 "cells": [
  {
   "cell_type": "code",
   "execution_count": 12,
   "metadata": {
    "collapsed": true,
    "pycharm": {
     "is_executing": false
    }
   },
   "outputs": [],
   "source": [
    "from typing import List\n",
    "def n_gram(l:List,n:int)->List[List]:\n",
    "    return [l[i:i+n] for i in range(len(l)-(n-1))]"
   ]
  },
  {
   "cell_type": "code",
   "execution_count": 13,
   "outputs": [],
   "source": [
    "s1=\"paraparaparadise\"\n",
    "s2=\"paragraph\""
   ],
   "metadata": {
    "collapsed": false,
    "pycharm": {
     "name": "#%%\n",
     "is_executing": false
    }
   }
  },
  {
   "cell_type": "code",
   "execution_count": 14,
   "outputs": [
    {
     "name": "stdout",
     "text": [
      "{'ra', 'pa', 'di', 'ar', 'se', 'ap', 'is', 'ad'}\n",
      "{'ag', 'ra', 'pa', 'ar', 'gr', 'ap', 'ph'}\n"
     ],
     "output_type": "stream"
    }
   ],
   "source": [
    "n=2\n",
    "X=set(n_gram(s1,n))\n",
    "Y=set(n_gram(s2,n))\n",
    "print(X)\n",
    "print(Y)"
   ],
   "metadata": {
    "collapsed": false,
    "pycharm": {
     "name": "#%%\n",
     "is_executing": false
    }
   }
  },
  {
   "cell_type": "code",
   "execution_count": 15,
   "outputs": [],
   "source": [
    "uni=X.union(Y)\n",
    "inter=X.intersection(Y)\n",
    "diff=X.difference(Y)\n",
    "w=\"se\"\n",
    "c=w in X and w in Y"
   ],
   "metadata": {
    "collapsed": false,
    "pycharm": {
     "name": "#%%\n",
     "is_executing": false
    }
   }
  },
  {
   "cell_type": "code",
   "execution_count": 16,
   "outputs": [
    {
     "name": "stdout",
     "text": [
      "X union y = {'ag', 'ra', 'pa', 'di', 'ar', 'gr', 'se', 'ap', 'is', 'ad', 'ph'}, X intersection Y = {'ap', 'ra', 'pa', 'ar'}, X difference Y = {'se', 'is', 'di', 'ad'}         se in X and se in Y is False\n"
     ],
     "output_type": "stream"
    }
   ],
   "source": [
    "print(\"X union y = {}, X intersection Y = {}, X difference Y = {} \\\n",
    "        se in X and se in Y is {}\".format(uni,inter,diff,c))\n",
    "\n"
   ],
   "metadata": {
    "collapsed": false,
    "pycharm": {
     "name": "#%%\n",
     "is_executing": false
    }
   }
  }
 ],
 "metadata": {
  "kernelspec": {
   "display_name": "Python 3",
   "language": "python",
   "name": "python3"
  },
  "language_info": {
   "codemirror_mode": {
    "name": "ipython",
    "version": 2
   },
   "file_extension": ".py",
   "mimetype": "text/x-python",
   "name": "python",
   "nbconvert_exporter": "python",
   "pygments_lexer": "ipython2",
   "version": "2.7.6"
  },
  "pycharm": {
   "stem_cell": {
    "cell_type": "raw",
    "source": [],
    "metadata": {
     "collapsed": false
    }
   }
  }
 },
 "nbformat": 4,
 "nbformat_minor": 0
}